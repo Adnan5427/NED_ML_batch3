{
 "cells": [
  {
   "cell_type": "code",
   "execution_count": 1,
   "id": "a43ec328",
   "metadata": {},
   "outputs": [],
   "source": [
    "import numpy as np\n",
    "import pandas as pd"
   ]
  },
  {
   "cell_type": "code",
   "execution_count": 2,
   "id": "1edd91e7",
   "metadata": {},
   "outputs": [
    {
     "name": "stdout",
     "output_type": "stream",
     "text": [
      "1040000\n",
      "203654\n"
     ]
    },
    {
     "data": {
      "text/html": [
       "<div>\n",
       "<style scoped>\n",
       "    .dataframe tbody tr th:only-of-type {\n",
       "        vertical-align: middle;\n",
       "    }\n",
       "\n",
       "    .dataframe tbody tr th {\n",
       "        vertical-align: top;\n",
       "    }\n",
       "\n",
       "    .dataframe thead th {\n",
       "        text-align: right;\n",
       "    }\n",
       "</style>\n",
       "<table border=\"1\" class=\"dataframe\">\n",
       "  <thead>\n",
       "    <tr style=\"text-align: right;\">\n",
       "      <th></th>\n",
       "      <th>s1</th>\n",
       "      <th>s2</th>\n",
       "      <th>s3</th>\n",
       "      <th>s4</th>\n",
       "      <th>s5</th>\n",
       "    </tr>\n",
       "  </thead>\n",
       "  <tbody>\n",
       "    <tr>\n",
       "      <th>0</th>\n",
       "      <td>95</td>\n",
       "      <td>95</td>\n",
       "      <td>86</td>\n",
       "      <td>89</td>\n",
       "      <td>97</td>\n",
       "    </tr>\n",
       "    <tr>\n",
       "      <th>1</th>\n",
       "      <td>99</td>\n",
       "      <td>82</td>\n",
       "      <td>86</td>\n",
       "      <td>91</td>\n",
       "      <td>89</td>\n",
       "    </tr>\n",
       "    <tr>\n",
       "      <th>2</th>\n",
       "      <td>88</td>\n",
       "      <td>96</td>\n",
       "      <td>92</td>\n",
       "      <td>82</td>\n",
       "      <td>86</td>\n",
       "    </tr>\n",
       "    <tr>\n",
       "      <th>3</th>\n",
       "      <td>93</td>\n",
       "      <td>89</td>\n",
       "      <td>85</td>\n",
       "      <td>82</td>\n",
       "      <td>93</td>\n",
       "    </tr>\n",
       "    <tr>\n",
       "      <th>4</th>\n",
       "      <td>88</td>\n",
       "      <td>92</td>\n",
       "      <td>95</td>\n",
       "      <td>96</td>\n",
       "      <td>81</td>\n",
       "    </tr>\n",
       "  </tbody>\n",
       "</table>\n",
       "</div>"
      ],
      "text/plain": [
       "   s1  s2  s3  s4  s5\n",
       "0  95  95  86  89  97\n",
       "1  99  82  86  91  89\n",
       "2  88  96  92  82  86\n",
       "3  93  89  85  82  93\n",
       "4  88  92  95  96  81"
      ]
     },
     "execution_count": 2,
     "metadata": {},
     "output_type": "execute_result"
    }
   ],
   "source": [
    "g1 = pd.DataFrame(np.random.randint(80,100, size=(40000,5)), columns = [\"s1\",'s2','s3','s4','s5'])\n",
    "g2 = pd.DataFrame(np.random.randint(70,79, size=(40000,5)), columns = [\"s1\",'s2','s3','s4','s5'])\n",
    "g3 = pd.DataFrame(np.random.randint(60,69, size=(40000,5)), columns = [\"s1\",'s2','s3','s4','s5'])\n",
    "g4 = pd.DataFrame(np.random.randint(50,59, size=(40000,5)), columns = [\"s1\",'s2','s3','s4','s5'])\n",
    "g5 = pd.DataFrame(np.random.randint(40,49, size=(40000,5)), columns = [\"s1\",'s2','s3','s4','s5'])\n",
    "g6 = pd.DataFrame(np.random.randint(33,39, size=(800000,5)), columns = [\"s1\",'s2','s3','s4','s5'])\n",
    "g7 = pd.DataFrame(np.random.randint(0,32, size=(40000,5)), columns = [\"s1\",'s2','s3','s4','s5'])\n",
    "\n",
    "df = pd.concat([g1,g2,g3,g4,g5,g6,g7])\n",
    "print(len(df))\n",
    "df = df.drop_duplicates()# get all unique records\n",
    "print(len(df))\n",
    "df.head()"
   ]
  },
  {
   "cell_type": "code",
   "execution_count": 3,
   "id": "d6cb3ace",
   "metadata": {},
   "outputs": [
    {
     "data": {
      "text/html": [
       "<div>\n",
       "<style scoped>\n",
       "    .dataframe tbody tr th:only-of-type {\n",
       "        vertical-align: middle;\n",
       "    }\n",
       "\n",
       "    .dataframe tbody tr th {\n",
       "        vertical-align: top;\n",
       "    }\n",
       "\n",
       "    .dataframe thead th {\n",
       "        text-align: right;\n",
       "    }\n",
       "</style>\n",
       "<table border=\"1\" class=\"dataframe\">\n",
       "  <thead>\n",
       "    <tr style=\"text-align: right;\">\n",
       "      <th></th>\n",
       "      <th>s1</th>\n",
       "      <th>s2</th>\n",
       "      <th>s3</th>\n",
       "      <th>s4</th>\n",
       "      <th>s5</th>\n",
       "    </tr>\n",
       "  </thead>\n",
       "  <tbody>\n",
       "    <tr>\n",
       "      <th>39994</th>\n",
       "      <td>6</td>\n",
       "      <td>5</td>\n",
       "      <td>25</td>\n",
       "      <td>6</td>\n",
       "      <td>3</td>\n",
       "    </tr>\n",
       "    <tr>\n",
       "      <th>39996</th>\n",
       "      <td>27</td>\n",
       "      <td>25</td>\n",
       "      <td>5</td>\n",
       "      <td>12</td>\n",
       "      <td>27</td>\n",
       "    </tr>\n",
       "    <tr>\n",
       "      <th>39997</th>\n",
       "      <td>5</td>\n",
       "      <td>18</td>\n",
       "      <td>24</td>\n",
       "      <td>14</td>\n",
       "      <td>14</td>\n",
       "    </tr>\n",
       "    <tr>\n",
       "      <th>39998</th>\n",
       "      <td>15</td>\n",
       "      <td>18</td>\n",
       "      <td>19</td>\n",
       "      <td>9</td>\n",
       "      <td>11</td>\n",
       "    </tr>\n",
       "    <tr>\n",
       "      <th>39999</th>\n",
       "      <td>24</td>\n",
       "      <td>9</td>\n",
       "      <td>26</td>\n",
       "      <td>5</td>\n",
       "      <td>21</td>\n",
       "    </tr>\n",
       "  </tbody>\n",
       "</table>\n",
       "</div>"
      ],
      "text/plain": [
       "       s1  s2  s3  s4  s5\n",
       "39994   6   5  25   6   3\n",
       "39996  27  25   5  12  27\n",
       "39997   5  18  24  14  14\n",
       "39998  15  18  19   9  11\n",
       "39999  24   9  26   5  21"
      ]
     },
     "execution_count": 3,
     "metadata": {},
     "output_type": "execute_result"
    }
   ],
   "source": [
    "df.tail()"
   ]
  },
  {
   "cell_type": "markdown",
   "id": "c817ec4a",
   "metadata": {},
   "source": [
    "# Symbolic AI"
   ]
  },
  {
   "cell_type": "code",
   "execution_count": 4,
   "id": "87fb42b5",
   "metadata": {},
   "outputs": [
    {
     "data": {
      "text/html": [
       "<div>\n",
       "<style scoped>\n",
       "    .dataframe tbody tr th:only-of-type {\n",
       "        vertical-align: middle;\n",
       "    }\n",
       "\n",
       "    .dataframe tbody tr th {\n",
       "        vertical-align: top;\n",
       "    }\n",
       "\n",
       "    .dataframe thead th {\n",
       "        text-align: right;\n",
       "    }\n",
       "</style>\n",
       "<table border=\"1\" class=\"dataframe\">\n",
       "  <thead>\n",
       "    <tr style=\"text-align: right;\">\n",
       "      <th></th>\n",
       "      <th>s1</th>\n",
       "      <th>s2</th>\n",
       "      <th>s3</th>\n",
       "      <th>s4</th>\n",
       "      <th>s5</th>\n",
       "      <th>Total</th>\n",
       "      <th>Obtained</th>\n",
       "      <th>Percentage</th>\n",
       "      <th>Grade</th>\n",
       "    </tr>\n",
       "  </thead>\n",
       "  <tbody>\n",
       "    <tr>\n",
       "      <th>0</th>\n",
       "      <td>95</td>\n",
       "      <td>95</td>\n",
       "      <td>86</td>\n",
       "      <td>89</td>\n",
       "      <td>97</td>\n",
       "      <td>500</td>\n",
       "      <td>462</td>\n",
       "      <td>92.4</td>\n",
       "      <td>A+</td>\n",
       "    </tr>\n",
       "    <tr>\n",
       "      <th>1</th>\n",
       "      <td>99</td>\n",
       "      <td>82</td>\n",
       "      <td>86</td>\n",
       "      <td>91</td>\n",
       "      <td>89</td>\n",
       "      <td>500</td>\n",
       "      <td>447</td>\n",
       "      <td>89.4</td>\n",
       "      <td>A+</td>\n",
       "    </tr>\n",
       "    <tr>\n",
       "      <th>2</th>\n",
       "      <td>88</td>\n",
       "      <td>96</td>\n",
       "      <td>92</td>\n",
       "      <td>82</td>\n",
       "      <td>86</td>\n",
       "      <td>500</td>\n",
       "      <td>444</td>\n",
       "      <td>88.8</td>\n",
       "      <td>A+</td>\n",
       "    </tr>\n",
       "    <tr>\n",
       "      <th>3</th>\n",
       "      <td>93</td>\n",
       "      <td>89</td>\n",
       "      <td>85</td>\n",
       "      <td>82</td>\n",
       "      <td>93</td>\n",
       "      <td>500</td>\n",
       "      <td>442</td>\n",
       "      <td>88.4</td>\n",
       "      <td>A+</td>\n",
       "    </tr>\n",
       "    <tr>\n",
       "      <th>4</th>\n",
       "      <td>88</td>\n",
       "      <td>92</td>\n",
       "      <td>95</td>\n",
       "      <td>96</td>\n",
       "      <td>81</td>\n",
       "      <td>500</td>\n",
       "      <td>452</td>\n",
       "      <td>90.4</td>\n",
       "      <td>A+</td>\n",
       "    </tr>\n",
       "    <tr>\n",
       "      <th>...</th>\n",
       "      <td>...</td>\n",
       "      <td>...</td>\n",
       "      <td>...</td>\n",
       "      <td>...</td>\n",
       "      <td>...</td>\n",
       "      <td>...</td>\n",
       "      <td>...</td>\n",
       "      <td>...</td>\n",
       "      <td>...</td>\n",
       "    </tr>\n",
       "    <tr>\n",
       "      <th>39994</th>\n",
       "      <td>6</td>\n",
       "      <td>5</td>\n",
       "      <td>25</td>\n",
       "      <td>6</td>\n",
       "      <td>3</td>\n",
       "      <td>500</td>\n",
       "      <td>45</td>\n",
       "      <td>9.0</td>\n",
       "      <td>Fail</td>\n",
       "    </tr>\n",
       "    <tr>\n",
       "      <th>39996</th>\n",
       "      <td>27</td>\n",
       "      <td>25</td>\n",
       "      <td>5</td>\n",
       "      <td>12</td>\n",
       "      <td>27</td>\n",
       "      <td>500</td>\n",
       "      <td>96</td>\n",
       "      <td>19.2</td>\n",
       "      <td>Fail</td>\n",
       "    </tr>\n",
       "    <tr>\n",
       "      <th>39997</th>\n",
       "      <td>5</td>\n",
       "      <td>18</td>\n",
       "      <td>24</td>\n",
       "      <td>14</td>\n",
       "      <td>14</td>\n",
       "      <td>500</td>\n",
       "      <td>75</td>\n",
       "      <td>15.0</td>\n",
       "      <td>Fail</td>\n",
       "    </tr>\n",
       "    <tr>\n",
       "      <th>39998</th>\n",
       "      <td>15</td>\n",
       "      <td>18</td>\n",
       "      <td>19</td>\n",
       "      <td>9</td>\n",
       "      <td>11</td>\n",
       "      <td>500</td>\n",
       "      <td>72</td>\n",
       "      <td>14.4</td>\n",
       "      <td>Fail</td>\n",
       "    </tr>\n",
       "    <tr>\n",
       "      <th>39999</th>\n",
       "      <td>24</td>\n",
       "      <td>9</td>\n",
       "      <td>26</td>\n",
       "      <td>5</td>\n",
       "      <td>21</td>\n",
       "      <td>500</td>\n",
       "      <td>85</td>\n",
       "      <td>17.0</td>\n",
       "      <td>Fail</td>\n",
       "    </tr>\n",
       "  </tbody>\n",
       "</table>\n",
       "<p>203654 rows × 9 columns</p>\n",
       "</div>"
      ],
      "text/plain": [
       "       s1  s2  s3  s4  s5  Total  Obtained  Percentage Grade\n",
       "0      95  95  86  89  97    500       462        92.4    A+\n",
       "1      99  82  86  91  89    500       447        89.4    A+\n",
       "2      88  96  92  82  86    500       444        88.8    A+\n",
       "3      93  89  85  82  93    500       442        88.4    A+\n",
       "4      88  92  95  96  81    500       452        90.4    A+\n",
       "...    ..  ..  ..  ..  ..    ...       ...         ...   ...\n",
       "39994   6   5  25   6   3    500        45         9.0  Fail\n",
       "39996  27  25   5  12  27    500        96        19.2  Fail\n",
       "39997   5  18  24  14  14    500        75        15.0  Fail\n",
       "39998  15  18  19   9  11    500        72        14.4  Fail\n",
       "39999  24   9  26   5  21    500        85        17.0  Fail\n",
       "\n",
       "[203654 rows x 9 columns]"
      ]
     },
     "execution_count": 4,
     "metadata": {},
     "output_type": "execute_result"
    }
   ],
   "source": [
    "def grade(sb1,sb2, sb3, sb4, sb5):\n",
    "    total = 500\n",
    "    obtain = sb1 + sb2 + sb3 + sb4 + sb5\n",
    "    per = (obtain / total) * 100\n",
    "    \n",
    "    grade = None\n",
    "    \n",
    "    if per >= 80:\n",
    "        grade = \"A+\"\n",
    "    elif per >= 70:\n",
    "        grade = \"A\"\n",
    "    elif per >= 60:\n",
    "        grade = \"B\"\n",
    "    elif per >= 50:\n",
    "        grade = \"C\"\n",
    "    elif per >= 40:\n",
    "        grade = \"D\"\n",
    "    elif per >= 33:\n",
    "        grade = \"E\"\n",
    "    else:\n",
    "        grade = \"Fail\"\n",
    "        \n",
    "    return total, obtain , per , grade\n",
    "\n",
    "# df[[\"Total\",\"Obtained\",\"Percentage\",\"Grade\"]] = df[[\"s1\",\"s2\",\"s3\",\"s4\",\"s5\"]].apply(lambda x:grade(*x), axis=1, result_type='expand')\n",
    "df[[\"Total\",\"Obtained\",\"Percentage\",\"Grade\"]] = df[[\"s1\",\"s2\",\"s3\",\"s4\",\"s5\"]].apply(lambda x:grade(x[0],x[1],x[2],x[3],x[4]), axis=1, result_type='expand')\n",
    "df"
   ]
  },
  {
   "cell_type": "code",
   "execution_count": 5,
   "id": "bc24a810",
   "metadata": {},
   "outputs": [
    {
     "data": {
      "text/plain": [
       "Fail    39988\n",
       "A+      39744\n",
       "D       29203\n",
       "C       29012\n",
       "B       29006\n",
       "A       28925\n",
       "E        7776\n",
       "Name: Grade, dtype: int64"
      ]
     },
     "execution_count": 5,
     "metadata": {},
     "output_type": "execute_result"
    }
   ],
   "source": [
    "df.Grade.value_counts()"
   ]
  },
  {
   "cell_type": "code",
   "execution_count": 6,
   "id": "6121926e",
   "metadata": {},
   "outputs": [
    {
     "name": "stdout",
     "output_type": "stream",
     "text": [
      "54432\n",
      "700\n"
     ]
    }
   ],
   "source": [
    "df1 = pd.DataFrame()\n",
    "test = pd.DataFrame()\n",
    "for i in df.Grade.unique():\n",
    "    df1 = pd.concat([df1,df[df.Grade==i].head(7776)])\n",
    "    test = pd.concat([test,df[df.Grade==i].head(100)])\n",
    "print(len(df1))\n",
    "print(len(test))"
   ]
  },
  {
   "cell_type": "markdown",
   "id": "a0f238ba",
   "metadata": {},
   "source": [
    "# Create data for ML"
   ]
  },
  {
   "cell_type": "code",
   "execution_count": 8,
   "id": "b93ee1e0",
   "metadata": {},
   "outputs": [
    {
     "data": {
      "text/html": [
       "<div>\n",
       "<style scoped>\n",
       "    .dataframe tbody tr th:only-of-type {\n",
       "        vertical-align: middle;\n",
       "    }\n",
       "\n",
       "    .dataframe tbody tr th {\n",
       "        vertical-align: top;\n",
       "    }\n",
       "\n",
       "    .dataframe thead th {\n",
       "        text-align: right;\n",
       "    }\n",
       "</style>\n",
       "<table border=\"1\" class=\"dataframe\">\n",
       "  <thead>\n",
       "    <tr style=\"text-align: right;\">\n",
       "      <th></th>\n",
       "      <th>s1</th>\n",
       "      <th>s2</th>\n",
       "      <th>s3</th>\n",
       "      <th>s4</th>\n",
       "      <th>s5</th>\n",
       "      <th>Percentage</th>\n",
       "      <th>Grade</th>\n",
       "    </tr>\n",
       "  </thead>\n",
       "  <tbody>\n",
       "    <tr>\n",
       "      <th>2875</th>\n",
       "      <td>77</td>\n",
       "      <td>74</td>\n",
       "      <td>74</td>\n",
       "      <td>77</td>\n",
       "      <td>71</td>\n",
       "      <td>74.6</td>\n",
       "      <td>A</td>\n",
       "    </tr>\n",
       "    <tr>\n",
       "      <th>4717</th>\n",
       "      <td>36</td>\n",
       "      <td>35</td>\n",
       "      <td>38</td>\n",
       "      <td>33</td>\n",
       "      <td>34</td>\n",
       "      <td>35.2</td>\n",
       "      <td>E</td>\n",
       "    </tr>\n",
       "    <tr>\n",
       "      <th>5305</th>\n",
       "      <td>71</td>\n",
       "      <td>75</td>\n",
       "      <td>78</td>\n",
       "      <td>77</td>\n",
       "      <td>74</td>\n",
       "      <td>75.0</td>\n",
       "      <td>A</td>\n",
       "    </tr>\n",
       "    <tr>\n",
       "      <th>917</th>\n",
       "      <td>34</td>\n",
       "      <td>36</td>\n",
       "      <td>37</td>\n",
       "      <td>34</td>\n",
       "      <td>38</td>\n",
       "      <td>35.8</td>\n",
       "      <td>E</td>\n",
       "    </tr>\n",
       "    <tr>\n",
       "      <th>5455</th>\n",
       "      <td>52</td>\n",
       "      <td>50</td>\n",
       "      <td>54</td>\n",
       "      <td>55</td>\n",
       "      <td>54</td>\n",
       "      <td>53.0</td>\n",
       "      <td>C</td>\n",
       "    </tr>\n",
       "    <tr>\n",
       "      <th>...</th>\n",
       "      <td>...</td>\n",
       "      <td>...</td>\n",
       "      <td>...</td>\n",
       "      <td>...</td>\n",
       "      <td>...</td>\n",
       "      <td>...</td>\n",
       "      <td>...</td>\n",
       "    </tr>\n",
       "    <tr>\n",
       "      <th>7396</th>\n",
       "      <td>15</td>\n",
       "      <td>25</td>\n",
       "      <td>12</td>\n",
       "      <td>7</td>\n",
       "      <td>28</td>\n",
       "      <td>17.4</td>\n",
       "      <td>Fail</td>\n",
       "    </tr>\n",
       "    <tr>\n",
       "      <th>6104</th>\n",
       "      <td>72</td>\n",
       "      <td>78</td>\n",
       "      <td>74</td>\n",
       "      <td>76</td>\n",
       "      <td>72</td>\n",
       "      <td>74.4</td>\n",
       "      <td>A</td>\n",
       "    </tr>\n",
       "    <tr>\n",
       "      <th>3671</th>\n",
       "      <td>60</td>\n",
       "      <td>65</td>\n",
       "      <td>66</td>\n",
       "      <td>67</td>\n",
       "      <td>62</td>\n",
       "      <td>64.0</td>\n",
       "      <td>B</td>\n",
       "    </tr>\n",
       "    <tr>\n",
       "      <th>7613</th>\n",
       "      <td>46</td>\n",
       "      <td>40</td>\n",
       "      <td>47</td>\n",
       "      <td>40</td>\n",
       "      <td>47</td>\n",
       "      <td>44.0</td>\n",
       "      <td>D</td>\n",
       "    </tr>\n",
       "    <tr>\n",
       "      <th>2212</th>\n",
       "      <td>75</td>\n",
       "      <td>71</td>\n",
       "      <td>71</td>\n",
       "      <td>78</td>\n",
       "      <td>78</td>\n",
       "      <td>74.6</td>\n",
       "      <td>A</td>\n",
       "    </tr>\n",
       "  </tbody>\n",
       "</table>\n",
       "<p>54432 rows × 7 columns</p>\n",
       "</div>"
      ],
      "text/plain": [
       "      s1  s2  s3  s4  s5  Percentage Grade\n",
       "2875  77  74  74  77  71        74.6     A\n",
       "4717  36  35  38  33  34        35.2     E\n",
       "5305  71  75  78  77  74        75.0     A\n",
       "917   34  36  37  34  38        35.8     E\n",
       "5455  52  50  54  55  54        53.0     C\n",
       "...   ..  ..  ..  ..  ..         ...   ...\n",
       "7396  15  25  12   7  28        17.4  Fail\n",
       "6104  72  78  74  76  72        74.4     A\n",
       "3671  60  65  66  67  62        64.0     B\n",
       "7613  46  40  47  40  47        44.0     D\n",
       "2212  75  71  71  78  78        74.6     A\n",
       "\n",
       "[54432 rows x 7 columns]"
      ]
     },
     "execution_count": 8,
     "metadata": {},
     "output_type": "execute_result"
    }
   ],
   "source": [
    "data = df1[[\"s1\",\"s2\",\"s3\",'s4','s5',\"Percentage\",'Grade']].copy()\n",
    "data = data.sample(frac=1)\n",
    "data"
   ]
  },
  {
   "cell_type": "code",
   "execution_count": 9,
   "id": "fed46928",
   "metadata": {},
   "outputs": [
    {
     "data": {
      "text/html": [
       "<div>\n",
       "<style scoped>\n",
       "    .dataframe tbody tr th:only-of-type {\n",
       "        vertical-align: middle;\n",
       "    }\n",
       "\n",
       "    .dataframe tbody tr th {\n",
       "        vertical-align: top;\n",
       "    }\n",
       "\n",
       "    .dataframe thead th {\n",
       "        text-align: right;\n",
       "    }\n",
       "</style>\n",
       "<table border=\"1\" class=\"dataframe\">\n",
       "  <thead>\n",
       "    <tr style=\"text-align: right;\">\n",
       "      <th></th>\n",
       "      <th>s1</th>\n",
       "      <th>s2</th>\n",
       "      <th>s3</th>\n",
       "      <th>s4</th>\n",
       "      <th>s5</th>\n",
       "      <th>Percentage</th>\n",
       "    </tr>\n",
       "  </thead>\n",
       "  <tbody>\n",
       "    <tr>\n",
       "      <th>s1</th>\n",
       "      <td>1.000000</td>\n",
       "      <td>0.961079</td>\n",
       "      <td>0.961584</td>\n",
       "      <td>0.961478</td>\n",
       "      <td>0.961096</td>\n",
       "      <td>0.984472</td>\n",
       "    </tr>\n",
       "    <tr>\n",
       "      <th>s2</th>\n",
       "      <td>0.961079</td>\n",
       "      <td>1.000000</td>\n",
       "      <td>0.960895</td>\n",
       "      <td>0.961855</td>\n",
       "      <td>0.960543</td>\n",
       "      <td>0.984270</td>\n",
       "    </tr>\n",
       "    <tr>\n",
       "      <th>s3</th>\n",
       "      <td>0.961584</td>\n",
       "      <td>0.960895</td>\n",
       "      <td>1.000000</td>\n",
       "      <td>0.961271</td>\n",
       "      <td>0.961040</td>\n",
       "      <td>0.984364</td>\n",
       "    </tr>\n",
       "    <tr>\n",
       "      <th>s4</th>\n",
       "      <td>0.961478</td>\n",
       "      <td>0.961855</td>\n",
       "      <td>0.961271</td>\n",
       "      <td>1.000000</td>\n",
       "      <td>0.961103</td>\n",
       "      <td>0.984532</td>\n",
       "    </tr>\n",
       "    <tr>\n",
       "      <th>s5</th>\n",
       "      <td>0.961096</td>\n",
       "      <td>0.960543</td>\n",
       "      <td>0.961040</td>\n",
       "      <td>0.961103</td>\n",
       "      <td>1.000000</td>\n",
       "      <td>0.984139</td>\n",
       "    </tr>\n",
       "    <tr>\n",
       "      <th>Percentage</th>\n",
       "      <td>0.984472</td>\n",
       "      <td>0.984270</td>\n",
       "      <td>0.984364</td>\n",
       "      <td>0.984532</td>\n",
       "      <td>0.984139</td>\n",
       "      <td>1.000000</td>\n",
       "    </tr>\n",
       "  </tbody>\n",
       "</table>\n",
       "</div>"
      ],
      "text/plain": [
       "                  s1        s2        s3        s4        s5  Percentage\n",
       "s1          1.000000  0.961079  0.961584  0.961478  0.961096    0.984472\n",
       "s2          0.961079  1.000000  0.960895  0.961855  0.960543    0.984270\n",
       "s3          0.961584  0.960895  1.000000  0.961271  0.961040    0.984364\n",
       "s4          0.961478  0.961855  0.961271  1.000000  0.961103    0.984532\n",
       "s5          0.961096  0.960543  0.961040  0.961103  1.000000    0.984139\n",
       "Percentage  0.984472  0.984270  0.984364  0.984532  0.984139    1.000000"
      ]
     },
     "execution_count": 9,
     "metadata": {},
     "output_type": "execute_result"
    }
   ],
   "source": [
    "data.corr()"
   ]
  },
  {
   "cell_type": "code",
   "execution_count": 10,
   "id": "9d579669",
   "metadata": {
    "scrolled": true
   },
   "outputs": [
    {
     "data": {
      "text/plain": [
       "<AxesSubplot:>"
      ]
     },
     "execution_count": 10,
     "metadata": {},
     "output_type": "execute_result"
    },
    {
     "data": {
      "image/png": "[encoded data removed]",
      "text/plain": [
       "<Figure size 432x288 with 1 Axes>"
      ]
     },
     "metadata": {
      "needs_background": "light"
     },
     "output_type": "display_data"
    }
   ],
   "source": [
    "data.corr().plot(kind='bar')"
   ]
  },
  {
   "cell_type": "code",
   "execution_count": 14,
   "id": "6cc8ee25",
   "metadata": {},
   "outputs": [
    {
     "data": {
      "text/html": [
       "<div>\n",
       "<style scoped>\n",
       "    .dataframe tbody tr th:only-of-type {\n",
       "        vertical-align: middle;\n",
       "    }\n",
       "\n",
       "    .dataframe tbody tr th {\n",
       "        vertical-align: top;\n",
       "    }\n",
       "\n",
       "    .dataframe thead th {\n",
       "        text-align: right;\n",
       "    }\n",
       "</style>\n",
       "<table border=\"1\" class=\"dataframe\">\n",
       "  <thead>\n",
       "    <tr style=\"text-align: right;\">\n",
       "      <th></th>\n",
       "      <th>s1</th>\n",
       "      <th>s2</th>\n",
       "      <th>s3</th>\n",
       "      <th>s4</th>\n",
       "      <th>s5</th>\n",
       "      <th>Percentage</th>\n",
       "      <th>Grade</th>\n",
       "      <th>Grade1</th>\n",
       "    </tr>\n",
       "  </thead>\n",
       "  <tbody>\n",
       "    <tr>\n",
       "      <th>2875</th>\n",
       "      <td>77</td>\n",
       "      <td>74</td>\n",
       "      <td>74</td>\n",
       "      <td>77</td>\n",
       "      <td>71</td>\n",
       "      <td>74.6</td>\n",
       "      <td>A</td>\n",
       "      <td>6</td>\n",
       "    </tr>\n",
       "    <tr>\n",
       "      <th>4717</th>\n",
       "      <td>36</td>\n",
       "      <td>35</td>\n",
       "      <td>38</td>\n",
       "      <td>33</td>\n",
       "      <td>34</td>\n",
       "      <td>35.2</td>\n",
       "      <td>E</td>\n",
       "      <td>2</td>\n",
       "    </tr>\n",
       "    <tr>\n",
       "      <th>5305</th>\n",
       "      <td>71</td>\n",
       "      <td>75</td>\n",
       "      <td>78</td>\n",
       "      <td>77</td>\n",
       "      <td>74</td>\n",
       "      <td>75.0</td>\n",
       "      <td>A</td>\n",
       "      <td>6</td>\n",
       "    </tr>\n",
       "    <tr>\n",
       "      <th>917</th>\n",
       "      <td>34</td>\n",
       "      <td>36</td>\n",
       "      <td>37</td>\n",
       "      <td>34</td>\n",
       "      <td>38</td>\n",
       "      <td>35.8</td>\n",
       "      <td>E</td>\n",
       "      <td>2</td>\n",
       "    </tr>\n",
       "    <tr>\n",
       "      <th>5455</th>\n",
       "      <td>52</td>\n",
       "      <td>50</td>\n",
       "      <td>54</td>\n",
       "      <td>55</td>\n",
       "      <td>54</td>\n",
       "      <td>53.0</td>\n",
       "      <td>C</td>\n",
       "      <td>4</td>\n",
       "    </tr>\n",
       "    <tr>\n",
       "      <th>...</th>\n",
       "      <td>...</td>\n",
       "      <td>...</td>\n",
       "      <td>...</td>\n",
       "      <td>...</td>\n",
       "      <td>...</td>\n",
       "      <td>...</td>\n",
       "      <td>...</td>\n",
       "      <td>...</td>\n",
       "    </tr>\n",
       "    <tr>\n",
       "      <th>7396</th>\n",
       "      <td>15</td>\n",
       "      <td>25</td>\n",
       "      <td>12</td>\n",
       "      <td>7</td>\n",
       "      <td>28</td>\n",
       "      <td>17.4</td>\n",
       "      <td>Fail</td>\n",
       "      <td>1</td>\n",
       "    </tr>\n",
       "    <tr>\n",
       "      <th>6104</th>\n",
       "      <td>72</td>\n",
       "      <td>78</td>\n",
       "      <td>74</td>\n",
       "      <td>76</td>\n",
       "      <td>72</td>\n",
       "      <td>74.4</td>\n",
       "      <td>A</td>\n",
       "      <td>6</td>\n",
       "    </tr>\n",
       "    <tr>\n",
       "      <th>3671</th>\n",
       "      <td>60</td>\n",
       "      <td>65</td>\n",
       "      <td>66</td>\n",
       "      <td>67</td>\n",
       "      <td>62</td>\n",
       "      <td>64.0</td>\n",
       "      <td>B</td>\n",
       "      <td>5</td>\n",
       "    </tr>\n",
       "    <tr>\n",
       "      <th>7613</th>\n",
       "      <td>46</td>\n",
       "      <td>40</td>\n",
       "      <td>47</td>\n",
       "      <td>40</td>\n",
       "      <td>47</td>\n",
       "      <td>44.0</td>\n",
       "      <td>D</td>\n",
       "      <td>3</td>\n",
       "    </tr>\n",
       "    <tr>\n",
       "      <th>2212</th>\n",
       "      <td>75</td>\n",
       "      <td>71</td>\n",
       "      <td>71</td>\n",
       "      <td>78</td>\n",
       "      <td>78</td>\n",
       "      <td>74.6</td>\n",
       "      <td>A</td>\n",
       "      <td>6</td>\n",
       "    </tr>\n",
       "  </tbody>\n",
       "</table>\n",
       "<p>54432 rows × 8 columns</p>\n",
       "</div>"
      ],
      "text/plain": [
       "      s1  s2  s3  s4  s5  Percentage Grade  Grade1\n",
       "2875  77  74  74  77  71        74.6     A       6\n",
       "4717  36  35  38  33  34        35.2     E       2\n",
       "5305  71  75  78  77  74        75.0     A       6\n",
       "917   34  36  37  34  38        35.8     E       2\n",
       "5455  52  50  54  55  54        53.0     C       4\n",
       "...   ..  ..  ..  ..  ..         ...   ...     ...\n",
       "7396  15  25  12   7  28        17.4  Fail       1\n",
       "6104  72  78  74  76  72        74.4     A       6\n",
       "3671  60  65  66  67  62        64.0     B       5\n",
       "7613  46  40  47  40  47        44.0     D       3\n",
       "2212  75  71  71  78  78        74.6     A       6\n",
       "\n",
       "[54432 rows x 8 columns]"
      ]
     },
     "execution_count": 14,
     "metadata": {},
     "output_type": "execute_result"
    }
   ],
   "source": [
    "grades = {\n",
    "    \"A+\":7,\n",
    "    \"A\":6,\n",
    "    \"B\":5,\n",
    "    \"C\":4,\n",
    "    \"D\":3,\n",
    "    \"E\":2,\n",
    "    \"Fail\":1\n",
    "}\n",
    "\n",
    "data['Grade1'] = data.Grade.map(grades)# map with dictionary\n",
    "data"
   ]
  },
  {
   "cell_type": "code",
   "execution_count": 15,
   "id": "967ff309",
   "metadata": {},
   "outputs": [
    {
     "data": {
      "text/plain": [
       "<AxesSubplot:>"
      ]
     },
     "execution_count": 15,
     "metadata": {},
     "output_type": "execute_result"
    },
    {
     "data": {
      "image/png": "[encoded data removed]",
      "text/plain": [
       "<Figure size 432x288 with 1 Axes>"
      ]
     },
     "metadata": {
      "needs_background": "light"
     },
     "output_type": "display_data"
    }
   ],
   "source": [
    "data.corr().plot(kind='bar')"
   ]
  },
  {
   "cell_type": "code",
   "execution_count": 16,
   "id": "52be85f5",
   "metadata": {},
   "outputs": [
    {
     "data": {
      "text/plain": [
       "<AxesSubplot:>"
      ]
     },
     "execution_count": 16,
     "metadata": {},
     "output_type": "execute_result"
    },
    {
     "data": {
      "image/png": "[encoded data removed]",
      "text/plain": [
       "<Figure size 432x288 with 1 Axes>"
      ]
     },
     "metadata": {
      "needs_background": "light"
     },
     "output_type": "display_data"
    }
   ],
   "source": [
    "data.corr().plot(kind='bar', legend=False)"
   ]
  },
  {
   "cell_type": "code",
   "execution_count": 18,
   "id": "5bb0d92f",
   "metadata": {},
   "outputs": [
    {
     "data": {
      "text/html": [
       "<div>\n",
       "<style scoped>\n",
       "    .dataframe tbody tr th:only-of-type {\n",
       "        vertical-align: middle;\n",
       "    }\n",
       "\n",
       "    .dataframe tbody tr th {\n",
       "        vertical-align: top;\n",
       "    }\n",
       "\n",
       "    .dataframe thead th {\n",
       "        text-align: right;\n",
       "    }\n",
       "</style>\n",
       "<table border=\"1\" class=\"dataframe\">\n",
       "  <thead>\n",
       "    <tr style=\"text-align: right;\">\n",
       "      <th></th>\n",
       "      <th>Percentage</th>\n",
       "      <th>Grade1</th>\n",
       "    </tr>\n",
       "  </thead>\n",
       "  <tbody>\n",
       "    <tr>\n",
       "      <th>Percentage</th>\n",
       "      <td>1.00000</td>\n",
       "      <td>0.98916</td>\n",
       "    </tr>\n",
       "    <tr>\n",
       "      <th>Grade1</th>\n",
       "      <td>0.98916</td>\n",
       "      <td>1.00000</td>\n",
       "    </tr>\n",
       "  </tbody>\n",
       "</table>\n",
       "</div>"
      ],
      "text/plain": [
       "            Percentage   Grade1\n",
       "Percentage     1.00000  0.98916\n",
       "Grade1         0.98916  1.00000"
      ]
     },
     "execution_count": 18,
     "metadata": {},
     "output_type": "execute_result"
    }
   ],
   "source": [
    "data[[\"Percentage\",\"Grade1\"]].corr()"
   ]
  },
  {
   "cell_type": "markdown",
   "id": "bb462677",
   "metadata": {},
   "source": [
    "# Find Grade (Rules) with Machine Learning"
   ]
  },
  {
   "cell_type": "code",
   "execution_count": 19,
   "id": "f37b67ea",
   "metadata": {},
   "outputs": [],
   "source": [
    "from sklearn.tree import DecisionTreeClassifier\n",
    "from sklearn.model_selection import train_test_split\n",
    "from sklearn import metrics"
   ]
  },
  {
   "cell_type": "markdown",
   "id": "ca70f534",
   "metadata": {},
   "source": [
    "<img src=\"https://www.researchgate.net/profile/Nimmisha-Shajihan/publication/347447352/figure/fig3/AS:970048604741634@1608289018974/Performance-measurement-TP-TN-FP-FN-are-the-parameters-used-in-the-evaluation-of.jpg\">\n",
    "<img src=\"https://miro.medium.com/max/974/1*CNWo23_VnUJPXdfrqbiB0g.jpeg\">"
   ]
  },
  {
   "cell_type": "markdown",
   "id": "f0d939c7",
   "metadata": {},
   "source": [
    "<img src=\"https://static.packt-cdn.com/products/9781785282287/graphics/B04223_10_02.jpg\">"
   ]
  },
  {
   "cell_type": "markdown",
   "id": "fe0f285f",
   "metadata": {},
   "source": [
    "<img src=\"https://i.ytimg.com/vi/ji48Lz6amMc/maxresdefault.jpg\">"
   ]
  },
  {
   "cell_type": "code",
   "execution_count": 20,
   "id": "0605879e",
   "metadata": {},
   "outputs": [
    {
     "data": {
      "text/html": [
       "<div>\n",
       "<style scoped>\n",
       "    .dataframe tbody tr th:only-of-type {\n",
       "        vertical-align: middle;\n",
       "    }\n",
       "\n",
       "    .dataframe tbody tr th {\n",
       "        vertical-align: top;\n",
       "    }\n",
       "\n",
       "    .dataframe thead th {\n",
       "        text-align: right;\n",
       "    }\n",
       "</style>\n",
       "<table border=\"1\" class=\"dataframe\">\n",
       "  <thead>\n",
       "    <tr style=\"text-align: right;\">\n",
       "      <th></th>\n",
       "      <th>Percentage</th>\n",
       "      <th>Grade1</th>\n",
       "    </tr>\n",
       "  </thead>\n",
       "  <tbody>\n",
       "    <tr>\n",
       "      <th>Percentage</th>\n",
       "      <td>1.00000</td>\n",
       "      <td>0.98916</td>\n",
       "    </tr>\n",
       "    <tr>\n",
       "      <th>Grade1</th>\n",
       "      <td>0.98916</td>\n",
       "      <td>1.00000</td>\n",
       "    </tr>\n",
       "  </tbody>\n",
       "</table>\n",
       "</div>"
      ],
      "text/plain": [
       "            Percentage   Grade1\n",
       "Percentage     1.00000  0.98916\n",
       "Grade1         0.98916  1.00000"
      ]
     },
     "execution_count": 20,
     "metadata": {},
     "output_type": "execute_result"
    }
   ],
   "source": [
    "data[[\"Percentage\",\"Grade1\"]].corr()"
   ]
  },
  {
   "cell_type": "markdown",
   "id": "ce375303",
   "metadata": {},
   "source": [
    "# Now select the feature based on above stats technique"
   ]
  },
  {
   "cell_type": "code",
   "execution_count": 22,
   "id": "4f23bb31",
   "metadata": {},
   "outputs": [
    {
     "data": {
      "text/html": [
       "<div>\n",
       "<style scoped>\n",
       "    .dataframe tbody tr th:only-of-type {\n",
       "        vertical-align: middle;\n",
       "    }\n",
       "\n",
       "    .dataframe tbody tr th {\n",
       "        vertical-align: top;\n",
       "    }\n",
       "\n",
       "    .dataframe thead th {\n",
       "        text-align: right;\n",
       "    }\n",
       "</style>\n",
       "<table border=\"1\" class=\"dataframe\">\n",
       "  <thead>\n",
       "    <tr style=\"text-align: right;\">\n",
       "      <th></th>\n",
       "      <th>s1</th>\n",
       "      <th>s2</th>\n",
       "      <th>s3</th>\n",
       "      <th>s4</th>\n",
       "      <th>s5</th>\n",
       "      <th>Percentage</th>\n",
       "      <th>Grade</th>\n",
       "      <th>Grade1</th>\n",
       "    </tr>\n",
       "  </thead>\n",
       "  <tbody>\n",
       "    <tr>\n",
       "      <th>2875</th>\n",
       "      <td>77</td>\n",
       "      <td>74</td>\n",
       "      <td>74</td>\n",
       "      <td>77</td>\n",
       "      <td>71</td>\n",
       "      <td>74.6</td>\n",
       "      <td>A</td>\n",
       "      <td>6</td>\n",
       "    </tr>\n",
       "    <tr>\n",
       "      <th>4717</th>\n",
       "      <td>36</td>\n",
       "      <td>35</td>\n",
       "      <td>38</td>\n",
       "      <td>33</td>\n",
       "      <td>34</td>\n",
       "      <td>35.2</td>\n",
       "      <td>E</td>\n",
       "      <td>2</td>\n",
       "    </tr>\n",
       "    <tr>\n",
       "      <th>5305</th>\n",
       "      <td>71</td>\n",
       "      <td>75</td>\n",
       "      <td>78</td>\n",
       "      <td>77</td>\n",
       "      <td>74</td>\n",
       "      <td>75.0</td>\n",
       "      <td>A</td>\n",
       "      <td>6</td>\n",
       "    </tr>\n",
       "    <tr>\n",
       "      <th>917</th>\n",
       "      <td>34</td>\n",
       "      <td>36</td>\n",
       "      <td>37</td>\n",
       "      <td>34</td>\n",
       "      <td>38</td>\n",
       "      <td>35.8</td>\n",
       "      <td>E</td>\n",
       "      <td>2</td>\n",
       "    </tr>\n",
       "    <tr>\n",
       "      <th>5455</th>\n",
       "      <td>52</td>\n",
       "      <td>50</td>\n",
       "      <td>54</td>\n",
       "      <td>55</td>\n",
       "      <td>54</td>\n",
       "      <td>53.0</td>\n",
       "      <td>C</td>\n",
       "      <td>4</td>\n",
       "    </tr>\n",
       "  </tbody>\n",
       "</table>\n",
       "</div>"
      ],
      "text/plain": [
       "      s1  s2  s3  s4  s5  Percentage Grade  Grade1\n",
       "2875  77  74  74  77  71        74.6     A       6\n",
       "4717  36  35  38  33  34        35.2     E       2\n",
       "5305  71  75  78  77  74        75.0     A       6\n",
       "917   34  36  37  34  38        35.8     E       2\n",
       "5455  52  50  54  55  54        53.0     C       4"
      ]
     },
     "execution_count": 22,
     "metadata": {},
     "output_type": "execute_result"
    }
   ],
   "source": [
    "data.head()"
   ]
  },
  {
   "cell_type": "code",
   "execution_count": 25,
   "id": "b82052b4",
   "metadata": {},
   "outputs": [],
   "source": [
    "feature = ['Percentage']\n",
    "\n",
    "X = data[feature]\n",
    "Y = data.Grade\n",
    "\n"
   ]
  },
  {
   "cell_type": "code",
   "execution_count": 29,
   "id": "96322fa2",
   "metadata": {},
   "outputs": [
    {
     "name": "stdout",
     "output_type": "stream",
     "text": [
      "<class 'pandas.core.frame.DataFrame'>\n"
     ]
    },
    {
     "data": {
      "text/html": [
       "<div>\n",
       "<style scoped>\n",
       "    .dataframe tbody tr th:only-of-type {\n",
       "        vertical-align: middle;\n",
       "    }\n",
       "\n",
       "    .dataframe tbody tr th {\n",
       "        vertical-align: top;\n",
       "    }\n",
       "\n",
       "    .dataframe thead th {\n",
       "        text-align: right;\n",
       "    }\n",
       "</style>\n",
       "<table border=\"1\" class=\"dataframe\">\n",
       "  <thead>\n",
       "    <tr style=\"text-align: right;\">\n",
       "      <th></th>\n",
       "      <th>Percentage</th>\n",
       "    </tr>\n",
       "  </thead>\n",
       "  <tbody>\n",
       "    <tr>\n",
       "      <th>2875</th>\n",
       "      <td>74.6</td>\n",
       "    </tr>\n",
       "    <tr>\n",
       "      <th>4717</th>\n",
       "      <td>35.2</td>\n",
       "    </tr>\n",
       "    <tr>\n",
       "      <th>5305</th>\n",
       "      <td>75.0</td>\n",
       "    </tr>\n",
       "    <tr>\n",
       "      <th>917</th>\n",
       "      <td>35.8</td>\n",
       "    </tr>\n",
       "    <tr>\n",
       "      <th>5455</th>\n",
       "      <td>53.0</td>\n",
       "    </tr>\n",
       "  </tbody>\n",
       "</table>\n",
       "</div>"
      ],
      "text/plain": [
       "      Percentage\n",
       "2875        74.6\n",
       "4717        35.2\n",
       "5305        75.0\n",
       "917         35.8\n",
       "5455        53.0"
      ]
     },
     "execution_count": 29,
     "metadata": {},
     "output_type": "execute_result"
    }
   ],
   "source": [
    "print(type(X))\n",
    "X.head()"
   ]
  },
  {
   "cell_type": "code",
   "execution_count": 28,
   "id": "db2bd4a9",
   "metadata": {},
   "outputs": [
    {
     "name": "stdout",
     "output_type": "stream",
     "text": [
      "<class 'pandas.core.series.Series'>\n"
     ]
    },
    {
     "data": {
      "text/plain": [
       "2875    A\n",
       "4717    E\n",
       "5305    A\n",
       "917     E\n",
       "5455    C\n",
       "Name: Grade, dtype: object"
      ]
     },
     "execution_count": 28,
     "metadata": {},
     "output_type": "execute_result"
    }
   ],
   "source": [
    "print(type(Y))\n",
    "Y.head()"
   ]
  },
  {
   "cell_type": "markdown",
   "id": "bb685617",
   "metadata": {},
   "source": [
    "# Split data in Training and Test dataset\n",
    "* X_train, X_test \n",
    "* Y_train, Y_test"
   ]
  },
  {
   "cell_type": "code",
   "execution_count": 35,
   "id": "f791450c",
   "metadata": {},
   "outputs": [
    {
     "name": "stdout",
     "output_type": "stream",
     "text": [
      "X len 54432 Y len 54432\n",
      "train X 38102\n",
      "38102\n",
      "38102\n",
      "16330\n",
      "16330\n"
     ]
    }
   ],
   "source": [
    "print(\"X len\",len(X),\"Y len\",len(Y))\n",
    "print(\"train X\",int(54432*70/100))\n",
    "X_train,X_test, Y_train, Y_test = train_test_split(X,Y, test_size=0.3,random_state=True)\n",
    "\n",
    "print(len(X_train))\n",
    "print(len(Y_train))\n",
    "print(len(X_test))\n",
    "print(len(Y_test))"
   ]
  },
  {
   "cell_type": "markdown",
   "id": "a98c9877",
   "metadata": {},
   "source": [
    "# Classifier"
   ]
  },
  {
   "cell_type": "code",
   "execution_count": 36,
   "id": "bb0d09f5",
   "metadata": {},
   "outputs": [],
   "source": [
    "clf = DecisionTreeClassifier()"
   ]
  },
  {
   "cell_type": "code",
   "execution_count": 37,
   "id": "0ee6af04",
   "metadata": {},
   "outputs": [],
   "source": [
    "clf = clf.fit(X_train, Y_train)"
   ]
  },
  {
   "cell_type": "markdown",
   "id": "d0479885",
   "metadata": {},
   "source": [
    "https://www.google.com/search?q=entropy+and+gini+index+decision+tree&source=lmns&tbm=vid&bih=636&biw=1296&hl=en&sa=X&ved=2ahUKEwjA7oW31J79AhXhpCcCHXgrAp0Q_AUoAnoECAEQAg\n",
    "\n",
    "* entropy\n",
    "* gini index"
   ]
  },
  {
   "cell_type": "code",
   "execution_count": 38,
   "id": "e2e14686",
   "metadata": {},
   "outputs": [
    {
     "data": {
      "text/html": [
       "<div>\n",
       "<style scoped>\n",
       "    .dataframe tbody tr th:only-of-type {\n",
       "        vertical-align: middle;\n",
       "    }\n",
       "\n",
       "    .dataframe tbody tr th {\n",
       "        vertical-align: top;\n",
       "    }\n",
       "\n",
       "    .dataframe thead th {\n",
       "        text-align: right;\n",
       "    }\n",
       "</style>\n",
       "<table border=\"1\" class=\"dataframe\">\n",
       "  <thead>\n",
       "    <tr style=\"text-align: right;\">\n",
       "      <th></th>\n",
       "      <th>Percentage</th>\n",
       "    </tr>\n",
       "  </thead>\n",
       "  <tbody>\n",
       "    <tr>\n",
       "      <th>321</th>\n",
       "      <td>64.4</td>\n",
       "    </tr>\n",
       "    <tr>\n",
       "      <th>6284</th>\n",
       "      <td>75.4</td>\n",
       "    </tr>\n",
       "    <tr>\n",
       "      <th>5622</th>\n",
       "      <td>62.8</td>\n",
       "    </tr>\n",
       "    <tr>\n",
       "      <th>4205</th>\n",
       "      <td>52.6</td>\n",
       "    </tr>\n",
       "    <tr>\n",
       "      <th>3359</th>\n",
       "      <td>55.0</td>\n",
       "    </tr>\n",
       "    <tr>\n",
       "      <th>...</th>\n",
       "      <td>...</td>\n",
       "    </tr>\n",
       "    <tr>\n",
       "      <th>6507</th>\n",
       "      <td>13.8</td>\n",
       "    </tr>\n",
       "    <tr>\n",
       "      <th>4515</th>\n",
       "      <td>63.6</td>\n",
       "    </tr>\n",
       "    <tr>\n",
       "      <th>6067</th>\n",
       "      <td>11.4</td>\n",
       "    </tr>\n",
       "    <tr>\n",
       "      <th>5330</th>\n",
       "      <td>74.0</td>\n",
       "    </tr>\n",
       "    <tr>\n",
       "      <th>6135</th>\n",
       "      <td>42.8</td>\n",
       "    </tr>\n",
       "  </tbody>\n",
       "</table>\n",
       "<p>16330 rows × 1 columns</p>\n",
       "</div>"
      ],
      "text/plain": [
       "      Percentage\n",
       "321         64.4\n",
       "6284        75.4\n",
       "5622        62.8\n",
       "4205        52.6\n",
       "3359        55.0\n",
       "...          ...\n",
       "6507        13.8\n",
       "4515        63.6\n",
       "6067        11.4\n",
       "5330        74.0\n",
       "6135        42.8\n",
       "\n",
       "[16330 rows x 1 columns]"
      ]
     },
     "execution_count": 38,
     "metadata": {},
     "output_type": "execute_result"
    }
   ],
   "source": [
    "X_test"
   ]
  },
  {
   "cell_type": "code",
   "execution_count": 48,
   "id": "3c81eedb",
   "metadata": {},
   "outputs": [
    {
     "data": {
      "text/plain": [
       "array(['B', 'A', 'B', ..., 'Fail', 'A', 'D'], dtype=object)"
      ]
     },
     "execution_count": 48,
     "metadata": {},
     "output_type": "execute_result"
    }
   ],
   "source": [
    "Y_predict = clf.predict(X_test)\n",
    "Y_predict"
   ]
  },
  {
   "cell_type": "code",
   "execution_count": 46,
   "id": "7adf6076",
   "metadata": {},
   "outputs": [
    {
     "data": {
      "text/html": [
       "<div>\n",
       "<style scoped>\n",
       "    .dataframe tbody tr th:only-of-type {\n",
       "        vertical-align: middle;\n",
       "    }\n",
       "\n",
       "    .dataframe tbody tr th {\n",
       "        vertical-align: top;\n",
       "    }\n",
       "\n",
       "    .dataframe thead th {\n",
       "        text-align: right;\n",
       "    }\n",
       "</style>\n",
       "<table border=\"1\" class=\"dataframe\">\n",
       "  <thead>\n",
       "    <tr style=\"text-align: right;\">\n",
       "      <th></th>\n",
       "      <th>Percentage</th>\n",
       "      <th>Actual_Y</th>\n",
       "      <th>predication</th>\n",
       "    </tr>\n",
       "  </thead>\n",
       "  <tbody>\n",
       "    <tr>\n",
       "      <th>321</th>\n",
       "      <td>64.4</td>\n",
       "      <td>B</td>\n",
       "      <td>B</td>\n",
       "    </tr>\n",
       "    <tr>\n",
       "      <th>6284</th>\n",
       "      <td>75.4</td>\n",
       "      <td>A</td>\n",
       "      <td>A</td>\n",
       "    </tr>\n",
       "    <tr>\n",
       "      <th>5622</th>\n",
       "      <td>62.8</td>\n",
       "      <td>B</td>\n",
       "      <td>B</td>\n",
       "    </tr>\n",
       "    <tr>\n",
       "      <th>4205</th>\n",
       "      <td>52.6</td>\n",
       "      <td>C</td>\n",
       "      <td>C</td>\n",
       "    </tr>\n",
       "    <tr>\n",
       "      <th>3359</th>\n",
       "      <td>55.0</td>\n",
       "      <td>C</td>\n",
       "      <td>C</td>\n",
       "    </tr>\n",
       "    <tr>\n",
       "      <th>...</th>\n",
       "      <td>...</td>\n",
       "      <td>...</td>\n",
       "      <td>...</td>\n",
       "    </tr>\n",
       "    <tr>\n",
       "      <th>6507</th>\n",
       "      <td>13.8</td>\n",
       "      <td>Fail</td>\n",
       "      <td>Fail</td>\n",
       "    </tr>\n",
       "    <tr>\n",
       "      <th>4515</th>\n",
       "      <td>63.6</td>\n",
       "      <td>B</td>\n",
       "      <td>B</td>\n",
       "    </tr>\n",
       "    <tr>\n",
       "      <th>6067</th>\n",
       "      <td>11.4</td>\n",
       "      <td>Fail</td>\n",
       "      <td>Fail</td>\n",
       "    </tr>\n",
       "    <tr>\n",
       "      <th>5330</th>\n",
       "      <td>74.0</td>\n",
       "      <td>A</td>\n",
       "      <td>A</td>\n",
       "    </tr>\n",
       "    <tr>\n",
       "      <th>6135</th>\n",
       "      <td>42.8</td>\n",
       "      <td>D</td>\n",
       "      <td>D</td>\n",
       "    </tr>\n",
       "  </tbody>\n",
       "</table>\n",
       "<p>16330 rows × 3 columns</p>\n",
       "</div>"
      ],
      "text/plain": [
       "      Percentage Actual_Y predication\n",
       "321         64.4        B           B\n",
       "6284        75.4        A           A\n",
       "5622        62.8        B           B\n",
       "4205        52.6        C           C\n",
       "3359        55.0        C           C\n",
       "...          ...      ...         ...\n",
       "6507        13.8     Fail        Fail\n",
       "4515        63.6        B           B\n",
       "6067        11.4     Fail        Fail\n",
       "5330        74.0        A           A\n",
       "6135        42.8        D           D\n",
       "\n",
       "[16330 rows x 3 columns]"
      ]
     },
     "execution_count": 46,
     "metadata": {},
     "output_type": "execute_result"
    }
   ],
   "source": [
    "abc = X_test.copy()\n",
    "abc['Actual_Y'] = Y_test\n",
    "abc['predication'] = clf.predict(X_test)# add prediction column\n",
    "\n",
    "abc"
   ]
  },
  {
   "cell_type": "code",
   "execution_count": 50,
   "id": "4bc1823d",
   "metadata": {},
   "outputs": [
    {
     "name": "stdout",
     "output_type": "stream",
     "text": [
      "              precision    recall  f1-score   support\n",
      "\n",
      "           A       1.00      1.00      1.00      2359\n",
      "          A+       1.00      1.00      1.00      2320\n",
      "           B       1.00      1.00      1.00      2350\n",
      "           C       1.00      1.00      1.00      2343\n",
      "           D       1.00      1.00      1.00      2313\n",
      "           E       1.00      1.00      1.00      2259\n",
      "        Fail       1.00      1.00      1.00      2386\n",
      "\n",
      "    accuracy                           1.00     16330\n",
      "   macro avg       1.00      1.00      1.00     16330\n",
      "weighted avg       1.00      1.00      1.00     16330\n",
      "\n"
     ]
    }
   ],
   "source": [
    "print(metrics.classification_report(Y_test,Y_predict))"
   ]
  },
  {
   "cell_type": "code",
   "execution_count": 64,
   "id": "8cac0930",
   "metadata": {},
   "outputs": [
    {
     "data": {
      "text/plain": [
       "array(['Fail'], dtype=object)"
      ]
     },
     "execution_count": 64,
     "metadata": {},
     "output_type": "execute_result"
    }
   ],
   "source": [
    "clf.predict([[31]])"
   ]
  },
  {
   "cell_type": "markdown",
   "id": "a9bc3ef6",
   "metadata": {},
   "source": [
    "# Display learning Rules"
   ]
  },
  {
   "cell_type": "code",
   "execution_count": 65,
   "id": "58a4c9d8",
   "metadata": {},
   "outputs": [],
   "source": [
    "from sklearn import tree\n",
    "import matplotlib.pyplot as plt"
   ]
  },
  {
   "cell_type": "code",
   "execution_count": 67,
   "id": "9ccf4fa0",
   "metadata": {},
   "outputs": [
    {
     "data": {
      "text/plain": [
       "[Text(418.5, 498.3, 'X[0] <= 79.2\\ngini = 0.857\\nsamples = 38102\\nvalue = [5417, 5456, 5426, 5433, 5463, 5517, 5390]\\nclass = y[5]'),\n",
       " Text(334.8, 407.70000000000005, 'X[0] <= 39.2\\ngini = 0.833\\nsamples = 32646\\nvalue = [5417, 0, 5426, 5433, 5463, 5517, 5390]\\nclass = y[5]'),\n",
       " Text(167.4, 317.1, 'X[0] <= 31.2\\ngini = 0.5\\nsamples = 10907\\nvalue = [0, 0, 0, 0, 0, 5517, 5390]\\nclass = y[5]'),\n",
       " Text(83.7, 226.5, 'gini = 0.0\\nsamples = 5390\\nvalue = [0, 0, 0, 0, 0, 0, 5390]\\nclass = y[6]'),\n",
       " Text(251.10000000000002, 226.5, 'gini = 0.0\\nsamples = 5517\\nvalue = [0, 0, 0, 0, 0, 5517, 0]\\nclass = y[5]'),\n",
       " Text(502.20000000000005, 317.1, 'X[0] <= 49.1\\ngini = 0.75\\nsamples = 21739\\nvalue = [5417, 0, 5426, 5433, 5463, 0, 0]\\nclass = y[4]'),\n",
       " Text(418.5, 226.5, 'gini = 0.0\\nsamples = 5463\\nvalue = [0, 0, 0, 0, 5463, 0, 0]\\nclass = y[4]'),\n",
       " Text(585.9, 226.5, 'X[0] <= 59.2\\ngini = 0.667\\nsamples = 16276\\nvalue = [5417, 0, 5426, 5433, 0, 0, 0]\\nclass = y[3]'),\n",
       " Text(502.20000000000005, 135.89999999999998, 'gini = 0.0\\nsamples = 5433\\nvalue = [0, 0, 0, 5433, 0, 0, 0]\\nclass = y[3]'),\n",
       " Text(669.6, 135.89999999999998, 'X[0] <= 68.9\\ngini = 0.5\\nsamples = 10843\\nvalue = [5417, 0, 5426, 0, 0, 0, 0]\\nclass = y[2]'),\n",
       " Text(585.9, 45.299999999999955, 'gini = 0.0\\nsamples = 5426\\nvalue = [0, 0, 5426, 0, 0, 0, 0]\\nclass = y[2]'),\n",
       " Text(753.3000000000001, 45.299999999999955, 'gini = 0.0\\nsamples = 5417\\nvalue = [5417, 0, 0, 0, 0, 0, 0]\\nclass = y[0]'),\n",
       " Text(502.20000000000005, 407.70000000000005, 'gini = 0.0\\nsamples = 5456\\nvalue = [0, 5456, 0, 0, 0, 0, 0]\\nclass = y[1]')]"
      ]
     },
     "execution_count": 67,
     "metadata": {},
     "output_type": "execute_result"
    },
    {
     "data": {
      "image/png": "[encoded data removed]",
      "text/plain": [
       "<Figure size 1080x720 with 1 Axes>"
      ]
     },
     "metadata": {
      "needs_background": "light"
     },
     "output_type": "display_data"
    }
   ],
   "source": [
    "plt.figure(figsize=(15,10))\n",
    "tree.plot_tree(clf, filled=True, class_names=True, fontsize=8)"
   ]
  },
  {
   "cell_type": "markdown",
   "id": "20d5daa3",
   "metadata": {},
   "source": [
    "<img src=\"https://www.researchgate.net/profile/Jessica-Pickles-2/publication/339279807/figure/fig1/AS:891889284829201@1589654384981/Random-forests-are-collections-of-randomised-decision-trees-A-A-single-decision-tree.ppm\">"
   ]
  },
  {
   "cell_type": "code",
   "execution_count": null,
   "id": "9d6b5494",
   "metadata": {},
   "outputs": [],
   "source": []
  },
  {
   "cell_type": "code",
   "execution_count": null,
   "id": "bcddf30c",
   "metadata": {},
   "outputs": [],
   "source": []
  },
  {
   "cell_type": "code",
   "execution_count": null,
   "id": "489b3b17",
   "metadata": {},
   "outputs": [],
   "source": []
  },
  {
   "cell_type": "code",
   "execution_count": null,
   "id": "1a2e6113",
   "metadata": {},
   "outputs": [],
   "source": []
  }
 ],
 "metadata": {
  "kernelspec": {
   "display_name": "Python 3",
   "language": "python",
   "name": "python3"
  },
  "language_info": {
   "codemirror_mode": {
    "name": "ipython",
    "version": 3
   },
   "file_extension": ".py",
   "mimetype": "text/x-python",
   "name": "python",
   "nbconvert_exporter": "python",
   "pygments_lexer": "ipython3",
   "version": "3.7.15"
  }
 },
 "nbformat": 4,
 "nbformat_minor": 5
}
